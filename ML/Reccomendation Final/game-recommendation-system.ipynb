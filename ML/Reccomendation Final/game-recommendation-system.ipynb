{
 "cells": [
  {
   "cell_type": "markdown",
   "id": "797d05ae",
   "metadata": {
    "papermill": {
     "duration": 0.031245,
     "end_time": "2024-05-24T11:25:34.291709",
     "exception": false,
     "start_time": "2024-05-24T11:25:34.260464",
     "status": "completed"
    },
    "tags": []
   },
   "source": [
    "# Steam Game Recommendation System"
   ]
  },
  {
   "cell_type": "markdown",
   "id": "811c4711",
   "metadata": {
    "papermill": {
     "duration": 0.030455,
     "end_time": "2024-05-24T11:25:34.413464",
     "exception": false,
     "start_time": "2024-05-24T11:25:34.383009",
     "status": "completed"
    },
    "tags": []
   },
   "source": [
    "# Importing Datasets"
   ]
  },
  {
   "cell_type": "code",
   "execution_count": 1,
   "id": "f2d3cf30",
   "metadata": {
    "execution": {
     "iopub.execute_input": "2024-05-24T11:25:34.477131Z",
     "iopub.status.busy": "2024-05-24T11:25:34.476697Z",
     "iopub.status.idle": "2024-05-24T11:25:37.019750Z",
     "shell.execute_reply": "2024-05-24T11:25:37.018488Z"
    },
    "papermill": {
     "duration": 2.577305,
     "end_time": "2024-05-24T11:25:37.023005",
     "exception": false,
     "start_time": "2024-05-24T11:25:34.445700",
     "status": "completed"
    },
    "tags": []
   },
   "outputs": [],
   "source": [
    "import pandas as pd\n",
    "import numpy as np\n",
    "import matplotlib.pyplot as plt\n",
    "import seaborn as  sn"
   ]
  },
  {
   "cell_type": "code",
   "execution_count": 2,
   "id": "36dd42b3",
   "metadata": {
    "execution": {
     "iopub.execute_input": "2024-05-24T11:25:37.085229Z",
     "iopub.status.busy": "2024-05-24T11:25:37.084697Z",
     "iopub.status.idle": "2024-05-24T11:25:37.090616Z",
     "shell.execute_reply": "2024-05-24T11:25:37.089689Z"
    },
    "papermill": {
     "duration": 0.040253,
     "end_time": "2024-05-24T11:25:37.093302",
     "exception": false,
     "start_time": "2024-05-24T11:25:37.053049",
     "status": "completed"
    },
    "tags": []
   },
   "outputs": [],
   "source": [
    "def reduce_memory(df):\n",
    "    for col in df.columns:\n",
    "        if df[col].dtype == 'float64':\n",
    "            df[col] = df[col].astype('float32')\n",
    "        elif df[col].dtype == 'int64':\n",
    "            df[col] = df[col].astype('int32')\n",
    "    return df"
   ]
  },
  {
   "cell_type": "code",
   "execution_count": 3,
   "id": "71a195e7",
   "metadata": {
    "execution": {
     "iopub.execute_input": "2024-05-24T11:25:37.155538Z",
     "iopub.status.busy": "2024-05-24T11:25:37.154426Z",
     "iopub.status.idle": "2024-05-24T11:25:37.527299Z",
     "shell.execute_reply": "2024-05-24T11:25:37.525782Z"
    },
    "papermill": {
     "duration": 0.408291,
     "end_time": "2024-05-24T11:25:37.530731",
     "exception": false,
     "start_time": "2024-05-24T11:25:37.122440",
     "status": "completed"
    },
    "tags": []
   },
   "outputs": [
    {
     "data": {
      "text/html": [
       "<div>\n",
       "<style scoped>\n",
       "    .dataframe tbody tr th:only-of-type {\n",
       "        vertical-align: middle;\n",
       "    }\n",
       "\n",
       "    .dataframe tbody tr th {\n",
       "        vertical-align: top;\n",
       "    }\n",
       "\n",
       "    .dataframe thead th {\n",
       "        text-align: right;\n",
       "    }\n",
       "</style>\n",
       "<table border=\"1\" class=\"dataframe\">\n",
       "  <thead>\n",
       "    <tr style=\"text-align: right;\">\n",
       "      <th></th>\n",
       "      <th>app_id</th>\n",
       "      <th>title</th>\n",
       "      <th>date_release</th>\n",
       "      <th>win</th>\n",
       "      <th>mac</th>\n",
       "      <th>linux</th>\n",
       "      <th>rating</th>\n",
       "      <th>positive_ratio</th>\n",
       "      <th>user_reviews</th>\n",
       "      <th>price_final</th>\n",
       "      <th>price_original</th>\n",
       "      <th>discount</th>\n",
       "      <th>steam_deck</th>\n",
       "    </tr>\n",
       "  </thead>\n",
       "  <tbody>\n",
       "    <tr>\n",
       "      <th>0</th>\n",
       "      <td>13500.0</td>\n",
       "      <td>Prince of Persia: Warrior Within™</td>\n",
       "      <td>21-11-2008</td>\n",
       "      <td>True</td>\n",
       "      <td>False</td>\n",
       "      <td>False</td>\n",
       "      <td>Very Positive</td>\n",
       "      <td>84.0</td>\n",
       "      <td>2199.0</td>\n",
       "      <td>9.99</td>\n",
       "      <td>9.99</td>\n",
       "      <td>0.0</td>\n",
       "      <td>True</td>\n",
       "    </tr>\n",
       "    <tr>\n",
       "      <th>1</th>\n",
       "      <td>22364.0</td>\n",
       "      <td>BRINK: Agents of Change</td>\n",
       "      <td>03-08-2011</td>\n",
       "      <td>True</td>\n",
       "      <td>False</td>\n",
       "      <td>False</td>\n",
       "      <td>Positive</td>\n",
       "      <td>85.0</td>\n",
       "      <td>21.0</td>\n",
       "      <td>2.99</td>\n",
       "      <td>2.99</td>\n",
       "      <td>0.0</td>\n",
       "      <td>True</td>\n",
       "    </tr>\n",
       "    <tr>\n",
       "      <th>2</th>\n",
       "      <td>113020.0</td>\n",
       "      <td>Monaco: What's Yours Is Mine</td>\n",
       "      <td>24-04-2013</td>\n",
       "      <td>True</td>\n",
       "      <td>True</td>\n",
       "      <td>True</td>\n",
       "      <td>Very Positive</td>\n",
       "      <td>92.0</td>\n",
       "      <td>3722.0</td>\n",
       "      <td>14.99</td>\n",
       "      <td>14.99</td>\n",
       "      <td>0.0</td>\n",
       "      <td>True</td>\n",
       "    </tr>\n",
       "    <tr>\n",
       "      <th>3</th>\n",
       "      <td>226560.0</td>\n",
       "      <td>Escape Dead Island</td>\n",
       "      <td>18-11-2014</td>\n",
       "      <td>True</td>\n",
       "      <td>False</td>\n",
       "      <td>False</td>\n",
       "      <td>Mixed</td>\n",
       "      <td>61.0</td>\n",
       "      <td>873.0</td>\n",
       "      <td>14.99</td>\n",
       "      <td>14.99</td>\n",
       "      <td>0.0</td>\n",
       "      <td>True</td>\n",
       "    </tr>\n",
       "    <tr>\n",
       "      <th>4</th>\n",
       "      <td>249050.0</td>\n",
       "      <td>Dungeon of the ENDLESS™</td>\n",
       "      <td>27-10-2014</td>\n",
       "      <td>True</td>\n",
       "      <td>True</td>\n",
       "      <td>False</td>\n",
       "      <td>Very Positive</td>\n",
       "      <td>88.0</td>\n",
       "      <td>8784.0</td>\n",
       "      <td>11.99</td>\n",
       "      <td>11.99</td>\n",
       "      <td>0.0</td>\n",
       "      <td>True</td>\n",
       "    </tr>\n",
       "  </tbody>\n",
       "</table>\n",
       "</div>"
      ],
      "text/plain": [
       "     app_id                              title date_release   win    mac  \\\n",
       "0   13500.0  Prince of Persia: Warrior Within™   21-11-2008  True  False   \n",
       "1   22364.0            BRINK: Agents of Change   03-08-2011  True  False   \n",
       "2  113020.0       Monaco: What's Yours Is Mine   24-04-2013  True   True   \n",
       "3  226560.0                 Escape Dead Island   18-11-2014  True  False   \n",
       "4  249050.0            Dungeon of the ENDLESS™   27-10-2014  True   True   \n",
       "\n",
       "   linux         rating  positive_ratio  user_reviews  price_final  \\\n",
       "0  False  Very Positive            84.0        2199.0         9.99   \n",
       "1  False       Positive            85.0          21.0         2.99   \n",
       "2   True  Very Positive            92.0        3722.0        14.99   \n",
       "3  False          Mixed            61.0         873.0        14.99   \n",
       "4  False  Very Positive            88.0        8784.0        11.99   \n",
       "\n",
       "   price_original  discount steam_deck  \n",
       "0            9.99       0.0       True  \n",
       "1            2.99       0.0       True  \n",
       "2           14.99       0.0       True  \n",
       "3           14.99       0.0       True  \n",
       "4           11.99       0.0       True  "
      ]
     },
     "execution_count": 3,
     "metadata": {},
     "output_type": "execute_result"
    }
   ],
   "source": [
    "games = reduce_memory(pd.read_csv(\"games.csv\"))\n",
    "games.head()"
   ]
  },
  {
   "cell_type": "code",
   "execution_count": 4,
   "id": "8c544788",
   "metadata": {
    "execution": {
     "iopub.execute_input": "2024-05-24T11:25:37.594280Z",
     "iopub.status.busy": "2024-05-24T11:25:37.593827Z",
     "iopub.status.idle": "2024-05-24T11:26:47.775747Z",
     "shell.execute_reply": "2024-05-24T11:26:47.774231Z"
    },
    "papermill": {
     "duration": 70.248407,
     "end_time": "2024-05-24T11:26:47.809670",
     "exception": false,
     "start_time": "2024-05-24T11:25:37.561263",
     "status": "completed"
    },
    "tags": []
   },
   "outputs": [
    {
     "data": {
      "text/html": [
       "<div>\n",
       "<style scoped>\n",
       "    .dataframe tbody tr th:only-of-type {\n",
       "        vertical-align: middle;\n",
       "    }\n",
       "\n",
       "    .dataframe tbody tr th {\n",
       "        vertical-align: top;\n",
       "    }\n",
       "\n",
       "    .dataframe thead th {\n",
       "        text-align: right;\n",
       "    }\n",
       "</style>\n",
       "<table border=\"1\" class=\"dataframe\">\n",
       "  <thead>\n",
       "    <tr style=\"text-align: right;\">\n",
       "      <th></th>\n",
       "      <th>app_id</th>\n",
       "      <th>helpful</th>\n",
       "      <th>funny</th>\n",
       "      <th>date</th>\n",
       "      <th>is_recommended</th>\n",
       "      <th>hours</th>\n",
       "      <th>user_id</th>\n",
       "      <th>review_id</th>\n",
       "    </tr>\n",
       "  </thead>\n",
       "  <tbody>\n",
       "    <tr>\n",
       "      <th>0</th>\n",
       "      <td>975370.0</td>\n",
       "      <td>0.0</td>\n",
       "      <td>0.0</td>\n",
       "      <td>12-12-2022</td>\n",
       "      <td>1.0</td>\n",
       "      <td>36.299999</td>\n",
       "      <td>51580.0</td>\n",
       "      <td>0.0</td>\n",
       "    </tr>\n",
       "    <tr>\n",
       "      <th>1</th>\n",
       "      <td>304390.0</td>\n",
       "      <td>4.0</td>\n",
       "      <td>0.0</td>\n",
       "      <td>2/17/2017</td>\n",
       "      <td>NaN</td>\n",
       "      <td>11.500000</td>\n",
       "      <td>2586.0</td>\n",
       "      <td>1.0</td>\n",
       "    </tr>\n",
       "    <tr>\n",
       "      <th>2</th>\n",
       "      <td>1085660.0</td>\n",
       "      <td>2.0</td>\n",
       "      <td>0.0</td>\n",
       "      <td>11/17/2019</td>\n",
       "      <td>1.0</td>\n",
       "      <td>336.500000</td>\n",
       "      <td>253880.0</td>\n",
       "      <td>2.0</td>\n",
       "    </tr>\n",
       "    <tr>\n",
       "      <th>3</th>\n",
       "      <td>703080.0</td>\n",
       "      <td>0.0</td>\n",
       "      <td>0.0</td>\n",
       "      <td>9/23/2022</td>\n",
       "      <td>1.0</td>\n",
       "      <td>27.400000</td>\n",
       "      <td>259432.0</td>\n",
       "      <td>3.0</td>\n",
       "    </tr>\n",
       "    <tr>\n",
       "      <th>4</th>\n",
       "      <td>526870.0</td>\n",
       "      <td>0.0</td>\n",
       "      <td>0.0</td>\n",
       "      <td>01-10-2021</td>\n",
       "      <td>1.0</td>\n",
       "      <td>7.900000</td>\n",
       "      <td>23869.0</td>\n",
       "      <td>4.0</td>\n",
       "    </tr>\n",
       "  </tbody>\n",
       "</table>\n",
       "</div>"
      ],
      "text/plain": [
       "      app_id  helpful  funny        date  is_recommended       hours  \\\n",
       "0   975370.0      0.0    0.0  12-12-2022             1.0   36.299999   \n",
       "1   304390.0      4.0    0.0   2/17/2017             NaN   11.500000   \n",
       "2  1085660.0      2.0    0.0  11/17/2019             1.0  336.500000   \n",
       "3   703080.0      0.0    0.0   9/23/2022             1.0   27.400000   \n",
       "4   526870.0      0.0    0.0  01-10-2021             1.0    7.900000   \n",
       "\n",
       "    user_id  review_id  \n",
       "0   51580.0        0.0  \n",
       "1    2586.0        1.0  \n",
       "2  253880.0        2.0  \n",
       "3  259432.0        3.0  \n",
       "4   23869.0        4.0  "
      ]
     },
     "execution_count": 4,
     "metadata": {},
     "output_type": "execute_result"
    }
   ],
   "source": [
    "recommendations = reduce_memory(pd.read_csv('recommendations.csv'))\n",
    "recommendations.head()"
   ]
  },
  {
   "cell_type": "code",
   "execution_count": 5,
   "id": "18e4457f",
   "metadata": {
    "execution": {
     "iopub.execute_input": "2024-05-24T11:26:47.875886Z",
     "iopub.status.busy": "2024-05-24T11:26:47.875443Z",
     "iopub.status.idle": "2024-05-24T11:26:54.758796Z",
     "shell.execute_reply": "2024-05-24T11:26:54.757375Z"
    },
    "papermill": {
     "duration": 6.92014,
     "end_time": "2024-05-24T11:26:54.761824",
     "exception": false,
     "start_time": "2024-05-24T11:26:47.841684",
     "status": "completed"
    },
    "tags": []
   },
   "outputs": [
    {
     "data": {
      "text/html": [
       "<div>\n",
       "<style scoped>\n",
       "    .dataframe tbody tr th:only-of-type {\n",
       "        vertical-align: middle;\n",
       "    }\n",
       "\n",
       "    .dataframe tbody tr th {\n",
       "        vertical-align: top;\n",
       "    }\n",
       "\n",
       "    .dataframe thead th {\n",
       "        text-align: right;\n",
       "    }\n",
       "</style>\n",
       "<table border=\"1\" class=\"dataframe\">\n",
       "  <thead>\n",
       "    <tr style=\"text-align: right;\">\n",
       "      <th></th>\n",
       "      <th>user_id</th>\n",
       "      <th>products</th>\n",
       "      <th>reviews</th>\n",
       "    </tr>\n",
       "  </thead>\n",
       "  <tbody>\n",
       "    <tr>\n",
       "      <th>0</th>\n",
       "      <td>7360263</td>\n",
       "      <td>359</td>\n",
       "      <td>0</td>\n",
       "    </tr>\n",
       "    <tr>\n",
       "      <th>1</th>\n",
       "      <td>14020781</td>\n",
       "      <td>156</td>\n",
       "      <td>1</td>\n",
       "    </tr>\n",
       "    <tr>\n",
       "      <th>2</th>\n",
       "      <td>8762579</td>\n",
       "      <td>329</td>\n",
       "      <td>4</td>\n",
       "    </tr>\n",
       "    <tr>\n",
       "      <th>3</th>\n",
       "      <td>4820647</td>\n",
       "      <td>176</td>\n",
       "      <td>4</td>\n",
       "    </tr>\n",
       "    <tr>\n",
       "      <th>4</th>\n",
       "      <td>5167327</td>\n",
       "      <td>98</td>\n",
       "      <td>2</td>\n",
       "    </tr>\n",
       "  </tbody>\n",
       "</table>\n",
       "</div>"
      ],
      "text/plain": [
       "    user_id  products  reviews\n",
       "0   7360263       359        0\n",
       "1  14020781       156        1\n",
       "2   8762579       329        4\n",
       "3   4820647       176        4\n",
       "4   5167327        98        2"
      ]
     },
     "execution_count": 5,
     "metadata": {},
     "output_type": "execute_result"
    }
   ],
   "source": [
    "users = reduce_memory(pd.read_csv(\"users.csv\"))\n",
    "users.head()"
   ]
  },
  {
   "cell_type": "code",
   "execution_count": 6,
   "id": "111327fe",
   "metadata": {
    "execution": {
     "iopub.execute_input": "2024-05-24T11:26:54.826071Z",
     "iopub.status.busy": "2024-05-24T11:26:54.825584Z",
     "iopub.status.idle": "2024-05-24T11:26:56.071829Z",
     "shell.execute_reply": "2024-05-24T11:26:56.070606Z"
    },
    "papermill": {
     "duration": 1.282023,
     "end_time": "2024-05-24T11:26:56.074993",
     "exception": false,
     "start_time": "2024-05-24T11:26:54.792970",
     "status": "completed"
    },
    "tags": []
   },
   "outputs": [
    {
     "data": {
      "text/html": [
       "<div>\n",
       "<style scoped>\n",
       "    .dataframe tbody tr th:only-of-type {\n",
       "        vertical-align: middle;\n",
       "    }\n",
       "\n",
       "    .dataframe tbody tr th {\n",
       "        vertical-align: top;\n",
       "    }\n",
       "\n",
       "    .dataframe thead th {\n",
       "        text-align: right;\n",
       "    }\n",
       "</style>\n",
       "<table border=\"1\" class=\"dataframe\">\n",
       "  <thead>\n",
       "    <tr style=\"text-align: right;\">\n",
       "      <th></th>\n",
       "      <th>app_id</th>\n",
       "      <th>description</th>\n",
       "      <th>tags</th>\n",
       "    </tr>\n",
       "  </thead>\n",
       "  <tbody>\n",
       "    <tr>\n",
       "      <th>0</th>\n",
       "      <td>13500</td>\n",
       "      <td>Enter the dark underworld of Prince of Persia ...</td>\n",
       "      <td>[Action, Adventure, Parkour, Third Person, Gre...</td>\n",
       "    </tr>\n",
       "    <tr>\n",
       "      <th>1</th>\n",
       "      <td>22364</td>\n",
       "      <td></td>\n",
       "      <td>[Action]</td>\n",
       "    </tr>\n",
       "    <tr>\n",
       "      <th>2</th>\n",
       "      <td>113020</td>\n",
       "      <td>Monaco: What's Yours Is Mine is a single playe...</td>\n",
       "      <td>[Co-op, Stealth, Indie, Heist, Local Co-Op, St...</td>\n",
       "    </tr>\n",
       "    <tr>\n",
       "      <th>3</th>\n",
       "      <td>226560</td>\n",
       "      <td>Escape Dead Island is a Survival-Mystery adven...</td>\n",
       "      <td>[Zombies, Adventure, Survival, Action, Third P...</td>\n",
       "    </tr>\n",
       "    <tr>\n",
       "      <th>4</th>\n",
       "      <td>249050</td>\n",
       "      <td>Dungeon of the Endless is a Rogue-Like Dungeon...</td>\n",
       "      <td>[Roguelike, Strategy, Tower Defense, Pixel Gra...</td>\n",
       "    </tr>\n",
       "  </tbody>\n",
       "</table>\n",
       "</div>"
      ],
      "text/plain": [
       "   app_id                                        description  \\\n",
       "0   13500  Enter the dark underworld of Prince of Persia ...   \n",
       "1   22364                                                      \n",
       "2  113020  Monaco: What's Yours Is Mine is a single playe...   \n",
       "3  226560  Escape Dead Island is a Survival-Mystery adven...   \n",
       "4  249050  Dungeon of the Endless is a Rogue-Like Dungeon...   \n",
       "\n",
       "                                                tags  \n",
       "0  [Action, Adventure, Parkour, Third Person, Gre...  \n",
       "1                                           [Action]  \n",
       "2  [Co-op, Stealth, Indie, Heist, Local Co-Op, St...  \n",
       "3  [Zombies, Adventure, Survival, Action, Third P...  \n",
       "4  [Roguelike, Strategy, Tower Defense, Pixel Gra...  "
      ]
     },
     "execution_count": 6,
     "metadata": {},
     "output_type": "execute_result"
    }
   ],
   "source": [
    "games_metadata = pd.read_json('games_metadata.json', lines=True)\n",
    "games_metadata.head()"
   ]
  },
  {
   "cell_type": "code",
   "execution_count": 7,
   "id": "bda02823",
   "metadata": {},
   "outputs": [
    {
     "data": {
      "text/plain": [
       "(50872, 13)"
      ]
     },
     "execution_count": 7,
     "metadata": {},
     "output_type": "execute_result"
    }
   ],
   "source": [
    "games.shape"
   ]
  },
  {
   "cell_type": "code",
   "execution_count": 8,
   "id": "c707d824",
   "metadata": {
    "execution": {
     "iopub.execute_input": "2024-05-24T11:26:56.138244Z",
     "iopub.status.busy": "2024-05-24T11:26:56.137749Z",
     "iopub.status.idle": "2024-05-24T11:26:56.187904Z",
     "shell.execute_reply": "2024-05-24T11:26:56.186452Z"
    },
    "papermill": {
     "duration": 0.08553,
     "end_time": "2024-05-24T11:26:56.190992",
     "exception": false,
     "start_time": "2024-05-24T11:26:56.105462",
     "status": "completed"
    },
    "tags": []
   },
   "outputs": [
    {
     "name": "stdout",
     "output_type": "stream",
     "text": [
      "<class 'pandas.core.frame.DataFrame'>\n",
      "RangeIndex: 50872 entries, 0 to 50871\n",
      "Data columns (total 13 columns):\n",
      " #   Column          Non-Null Count  Dtype  \n",
      "---  ------          --------------  -----  \n",
      " 0   app_id          3000 non-null   float32\n",
      " 1   title           3000 non-null   object \n",
      " 2   date_release    3000 non-null   object \n",
      " 3   win             3000 non-null   object \n",
      " 4   mac             3000 non-null   object \n",
      " 5   linux           3000 non-null   object \n",
      " 6   rating          3000 non-null   object \n",
      " 7   positive_ratio  3000 non-null   float32\n",
      " 8   user_reviews    3000 non-null   float32\n",
      " 9   price_final     3000 non-null   float32\n",
      " 10  price_original  3000 non-null   float32\n",
      " 11  discount        3000 non-null   float32\n",
      " 12  steam_deck      3000 non-null   object \n",
      "dtypes: float32(6), object(7)\n",
      "memory usage: 3.9+ MB\n"
     ]
    }
   ],
   "source": [
    "games.info()"
   ]
  },
  {
   "cell_type": "code",
   "execution_count": 9,
   "id": "5250a453",
   "metadata": {
    "execution": {
     "iopub.execute_input": "2024-05-24T11:26:56.258196Z",
     "iopub.status.busy": "2024-05-24T11:26:56.257801Z",
     "iopub.status.idle": "2024-05-24T11:26:56.270055Z",
     "shell.execute_reply": "2024-05-24T11:26:56.268573Z"
    },
    "papermill": {
     "duration": 0.050274,
     "end_time": "2024-05-24T11:26:56.273285",
     "exception": false,
     "start_time": "2024-05-24T11:26:56.223011",
     "status": "completed"
    },
    "tags": []
   },
   "outputs": [
    {
     "name": "stdout",
     "output_type": "stream",
     "text": [
      "<class 'pandas.core.frame.DataFrame'>\n",
      "RangeIndex: 58202 entries, 0 to 58201\n",
      "Data columns (total 8 columns):\n",
      " #   Column          Non-Null Count  Dtype  \n",
      "---  ------          --------------  -----  \n",
      " 0   app_id          3000 non-null   float32\n",
      " 1   helpful         3000 non-null   float32\n",
      " 2   funny           3000 non-null   float32\n",
      " 3   date            3000 non-null   object \n",
      " 4   is_recommended  2565 non-null   float32\n",
      " 5   hours           3000 non-null   float32\n",
      " 6   user_id         3000 non-null   float32\n",
      " 7   review_id       3000 non-null   float32\n",
      "dtypes: float32(7), object(1)\n",
      "memory usage: 2.0+ MB\n"
     ]
    }
   ],
   "source": [
    "recommendations.info()"
   ]
  },
  {
   "cell_type": "code",
   "execution_count": 10,
   "id": "6bab45f0",
   "metadata": {
    "execution": {
     "iopub.execute_input": "2024-05-24T11:26:56.337328Z",
     "iopub.status.busy": "2024-05-24T11:26:56.336924Z",
     "iopub.status.idle": "2024-05-24T11:26:56.348958Z",
     "shell.execute_reply": "2024-05-24T11:26:56.347440Z"
    },
    "papermill": {
     "duration": 0.047552,
     "end_time": "2024-05-24T11:26:56.352110",
     "exception": false,
     "start_time": "2024-05-24T11:26:56.304558",
     "status": "completed"
    },
    "tags": []
   },
   "outputs": [
    {
     "name": "stdout",
     "output_type": "stream",
     "text": [
      "<class 'pandas.core.frame.DataFrame'>\n",
      "RangeIndex: 5605 entries, 0 to 5604\n",
      "Data columns (total 3 columns):\n",
      " #   Column    Non-Null Count  Dtype\n",
      "---  ------    --------------  -----\n",
      " 0   user_id   5605 non-null   int32\n",
      " 1   products  5605 non-null   int32\n",
      " 2   reviews   5605 non-null   int32\n",
      "dtypes: int32(3)\n",
      "memory usage: 65.8 KB\n"
     ]
    }
   ],
   "source": [
    "users.info()"
   ]
  },
  {
   "cell_type": "code",
   "execution_count": 11,
   "id": "b3ac08d1",
   "metadata": {
    "execution": {
     "iopub.execute_input": "2024-05-24T11:26:56.416929Z",
     "iopub.status.busy": "2024-05-24T11:26:56.416497Z",
     "iopub.status.idle": "2024-05-24T11:26:56.425287Z",
     "shell.execute_reply": "2024-05-24T11:26:56.423778Z"
    },
    "papermill": {
     "duration": 0.044691,
     "end_time": "2024-05-24T11:26:56.428684",
     "exception": false,
     "start_time": "2024-05-24T11:26:56.383993",
     "status": "completed"
    },
    "tags": []
   },
   "outputs": [
    {
     "data": {
      "text/plain": [
       "Index(['app_id', 'title', 'date_release', 'win', 'mac', 'linux', 'rating',\n",
       "       'positive_ratio', 'user_reviews', 'price_final', 'price_original',\n",
       "       'discount', 'steam_deck'],\n",
       "      dtype='object')"
      ]
     },
     "execution_count": 11,
     "metadata": {},
     "output_type": "execute_result"
    }
   ],
   "source": [
    "games.columns"
   ]
  },
  {
   "cell_type": "markdown",
   "id": "76c8d59f",
   "metadata": {
    "papermill": {
     "duration": 0.030482,
     "end_time": "2024-05-24T11:26:56.490384",
     "exception": false,
     "start_time": "2024-05-24T11:26:56.459902",
     "status": "completed"
    },
    "tags": []
   },
   "source": [
    "### Lets try to drive how many games release on each year"
   ]
  },
  {
   "cell_type": "code",
   "execution_count": 12,
   "id": "1ffe8e52",
   "metadata": {
    "execution": {
     "iopub.execute_input": "2024-05-24T11:26:56.555154Z",
     "iopub.status.busy": "2024-05-24T11:26:56.554661Z",
     "iopub.status.idle": "2024-05-24T11:26:56.569047Z",
     "shell.execute_reply": "2024-05-24T11:26:56.567883Z"
    },
    "papermill": {
     "duration": 0.05025,
     "end_time": "2024-05-24T11:26:56.571630",
     "exception": false,
     "start_time": "2024-05-24T11:26:56.521380",
     "status": "completed"
    },
    "tags": []
   },
   "outputs": [
    {
     "data": {
      "text/plain": [
       "47872"
      ]
     },
     "execution_count": 12,
     "metadata": {},
     "output_type": "execute_result"
    }
   ],
   "source": [
    "games['date_release'].isnull().sum()"
   ]
  },
  {
   "cell_type": "code",
   "execution_count": 13,
   "id": "123a51b3",
   "metadata": {
    "execution": {
     "iopub.execute_input": "2024-05-24T11:26:56.636489Z",
     "iopub.status.busy": "2024-05-24T11:26:56.635906Z",
     "iopub.status.idle": "2024-05-24T11:26:56.668671Z",
     "shell.execute_reply": "2024-05-24T11:26:56.667269Z"
    },
    "papermill": {
     "duration": 0.069411,
     "end_time": "2024-05-24T11:26:56.672111",
     "exception": false,
     "start_time": "2024-05-24T11:26:56.602700",
     "status": "completed"
    },
    "tags": []
   },
   "outputs": [
    {
     "name": "stderr",
     "output_type": "stream",
     "text": [
      "C:\\Users\\Ayush R\\AppData\\Local\\Temp\\ipykernel_13124\\4130818478.py:2: UserWarning: Parsing dates in %d-%m-%Y format when dayfirst=False (the default) was specified. Pass `dayfirst=True` or specify a format to silence this warning.\n",
      "  games['date_release'] = pd.to_datetime(games['date_release'])\n"
     ]
    }
   ],
   "source": [
    "# to_datetime is used to convert into datetime dtype\n",
    "games['date_release'] = pd.to_datetime(games['date_release'])\n",
    "games['release_year'] = games['date_release'].dt.year"
   ]
  },
  {
   "cell_type": "code",
   "execution_count": 15,
   "id": "ffbcb49f",
   "metadata": {
    "execution": {
     "iopub.execute_input": "2024-05-24T11:26:59.596581Z",
     "iopub.status.busy": "2024-05-24T11:26:59.595820Z",
     "iopub.status.idle": "2024-05-24T11:27:01.271813Z",
     "shell.execute_reply": "2024-05-24T11:27:01.270529Z"
    },
    "papermill": {
     "duration": 1.718436,
     "end_time": "2024-05-24T11:27:01.274642",
     "exception": false,
     "start_time": "2024-05-24T11:26:59.556206",
     "status": "completed"
    },
    "tags": []
   },
   "outputs": [
    {
     "data": {
      "text/plain": [
       "5605"
      ]
     },
     "execution_count": 15,
     "metadata": {},
     "output_type": "execute_result"
    }
   ],
   "source": [
    "# Here User_ID is auto genrated id due to privacy concerns\n",
    "users['user_id'].unique().shape[0]"
   ]
  },
  {
   "cell_type": "code",
   "execution_count": 16,
   "id": "40df3665",
   "metadata": {
    "execution": {
     "iopub.execute_input": "2024-05-24T11:27:01.354346Z",
     "iopub.status.busy": "2024-05-24T11:27:01.353935Z",
     "iopub.status.idle": "2024-05-24T11:27:02.224886Z",
     "shell.execute_reply": "2024-05-24T11:27:02.223529Z"
    },
    "papermill": {
     "duration": 0.914537,
     "end_time": "2024-05-24T11:27:02.227757",
     "exception": false,
     "start_time": "2024-05-24T11:27:01.313220",
     "status": "completed"
    },
    "tags": []
   },
   "outputs": [
    {
     "data": {
      "image/png": "[encoded data removed]",
      "text/plain": [
       "<Figure size 1000x600 with 1 Axes>"
      ]
     },
     "metadata": {},
     "output_type": "display_data"
    }
   ],
   "source": [
    "bins = [0 , 100 , 200 , 300 , 400 , float('inf')]\n",
    "\n",
    "users['product_bin'] = pd.cut(users['products'], bins=bins)\n",
    "\n",
    "# Count the number of users in each bin\n",
    "bin_counts = users['product_bin'].value_counts().sort_index()\n",
    "\n",
    "# Plot a bar plot of the distribution of products per user\n",
    "plt.figure(figsize=(10, 6))\n",
    "bin_counts.plot(kind='bar', edgecolor='black')\n",
    "plt.title('Distribution of Products Purchased per User')\n",
    "plt.xlabel('Number of Products')\n",
    "plt.ylabel('Number of Users')\n",
    "plt.xticks(rotation=45)\n",
    "plt.show()"
   ]
  },
  {
   "cell_type": "code",
   "execution_count": 17,
   "id": "1f4b2dc8",
   "metadata": {
    "execution": {
     "iopub.execute_input": "2024-05-24T11:27:02.305318Z",
     "iopub.status.busy": "2024-05-24T11:27:02.304935Z",
     "iopub.status.idle": "2024-05-24T11:27:03.322187Z",
     "shell.execute_reply": "2024-05-24T11:27:03.320847Z"
    },
    "papermill": {
     "duration": 1.059472,
     "end_time": "2024-05-24T11:27:03.325391",
     "exception": false,
     "start_time": "2024-05-24T11:27:02.265919",
     "status": "completed"
    },
    "tags": []
   },
   "outputs": [
    {
     "data": {
      "image/png": "[encoded data removed]",
      "text/plain": [
       "<Figure size 800x600 with 1 Axes>"
      ]
     },
     "metadata": {},
     "output_type": "display_data"
    }
   ],
   "source": [
    "plt.figure(figsize=(8, 6))\n",
    "plt.hist(recommendations['hours'], bins=30, edgecolor='black')\n",
    "plt.title('Distribution of Hours Played by Users')\n",
    "plt.xlabel('Hours Played')\n",
    "plt.ylabel('Number of Users')\n",
    "plt.show()"
   ]
  },
  {
   "cell_type": "code",
   "execution_count": 19,
   "id": "b9bb181e",
   "metadata": {
    "execution": {
     "iopub.execute_input": "2024-05-24T11:27:18.754448Z",
     "iopub.status.busy": "2024-05-24T11:27:18.753317Z",
     "iopub.status.idle": "2024-05-24T11:27:20.936332Z",
     "shell.execute_reply": "2024-05-24T11:27:20.933157Z"
    },
    "papermill": {
     "duration": 2.228847,
     "end_time": "2024-05-24T11:27:20.940103",
     "exception": false,
     "start_time": "2024-05-24T11:27:18.711256",
     "status": "completed"
    },
    "tags": []
   },
   "outputs": [
    {
     "name": "stdout",
     "output_type": "stream",
     "text": [
      "Correlation Matrix:\n",
      "                 helpful     funny  is_recommended\n",
      "helpful         1.000000  0.774017             NaN\n",
      "funny           0.774017  1.000000             NaN\n",
      "is_recommended       NaN       NaN             NaN\n"
     ]
    }
   ],
   "source": [
    "correlation_matrix = recommendations[['helpful', 'funny', 'is_recommended']].corr()\n",
    "\n",
    "print('Correlation Matrix:')\n",
    "print(correlation_matrix)"
   ]
  },
  {
   "cell_type": "code",
   "execution_count": 20,
   "id": "20b9be63",
   "metadata": {
    "execution": {
     "iopub.execute_input": "2024-05-24T11:27:21.031293Z",
     "iopub.status.busy": "2024-05-24T11:27:21.030387Z",
     "iopub.status.idle": "2024-05-24T11:27:22.097835Z",
     "shell.execute_reply": "2024-05-24T11:27:22.096199Z"
    },
    "papermill": {
     "duration": 1.114521,
     "end_time": "2024-05-24T11:27:22.100853",
     "exception": false,
     "start_time": "2024-05-24T11:27:20.986332",
     "status": "completed"
    },
    "tags": []
   },
   "outputs": [
    {
     "name": "stdout",
     "output_type": "stream",
     "text": [
      "Correlation between user activity and recommendation ratings: nan\n"
     ]
    },
    {
     "name": "stderr",
     "output_type": "stream",
     "text": [
      "c:\\Users\\Ayush R\\AppData\\Local\\Programs\\Python\\Python312\\Lib\\site-packages\\numpy\\lib\\function_base.py:2897: RuntimeWarning: invalid value encountered in divide\n",
      "  c /= stddev[:, None]\n",
      "c:\\Users\\Ayush R\\AppData\\Local\\Programs\\Python\\Python312\\Lib\\site-packages\\numpy\\lib\\function_base.py:2898: RuntimeWarning: invalid value encountered in divide\n",
      "  c /= stddev[None, :]\n"
     ]
    }
   ],
   "source": [
    "correlation = recommendations['hours'].corr(recommendations['is_recommended'])\n",
    "print(\"Correlation between user activity and recommendation ratings:\", correlation)"
   ]
  },
  {
   "cell_type": "code",
   "execution_count": 21,
   "id": "698f380f",
   "metadata": {
    "execution": {
     "iopub.execute_input": "2024-05-24T11:27:22.185779Z",
     "iopub.status.busy": "2024-05-24T11:27:22.185384Z",
     "iopub.status.idle": "2024-05-24T11:27:23.681831Z",
     "shell.execute_reply": "2024-05-24T11:27:23.680485Z"
    },
    "papermill": {
     "duration": 1.542859,
     "end_time": "2024-05-24T11:27:23.685034",
     "exception": false,
     "start_time": "2024-05-24T11:27:22.142175",
     "status": "completed"
    },
    "tags": []
   },
   "outputs": [
    {
     "name": "stdout",
     "output_type": "stream",
     "text": [
      "is_recommended\n",
      "1.0    1298\n",
      "Name: count, dtype: int64\n"
     ]
    },
    {
     "data": {
      "image/png": "[encoded data removed]",
      "text/plain": [
       "<Figure size 640x480 with 1 Axes>"
      ]
     },
     "metadata": {},
     "output_type": "display_data"
    }
   ],
   "source": [
    "high_activity_users = recommendations[recommendations['hours'] > 100]\n",
    "\n",
    "recommendation_counts = high_activity_users['is_recommended'].value_counts()\n",
    "recommendation_counts.plot(kind='bar', color=['green', 'red'])\n",
    "\n",
    "print(recommendation_counts)\n",
    "\n",
    "for i, count in enumerate(recommendation_counts):\n",
    "    plt.text(i, count + 1000, str(count), ha='center', va='bottom')\n",
    "plt.title('Distribution of Recommendations for Users with More Than 100 Hours Played')\n",
    "plt.xlabel('Recommended')\n",
    "plt.ylabel('Number of Users')\n",
    "plt.yscale('log')\n",
    "plt.tight_layout()"
   ]
  },
  {
   "cell_type": "code",
   "execution_count": 22,
   "id": "a7636fbe",
   "metadata": {
    "execution": {
     "iopub.execute_input": "2024-05-24T11:27:23.768534Z",
     "iopub.status.busy": "2024-05-24T11:27:23.767895Z",
     "iopub.status.idle": "2024-05-24T11:27:23.802969Z",
     "shell.execute_reply": "2024-05-24T11:27:23.801458Z"
    },
    "papermill": {
     "duration": 0.079734,
     "end_time": "2024-05-24T11:27:23.806123",
     "exception": false,
     "start_time": "2024-05-24T11:27:23.726389",
     "status": "completed"
    },
    "tags": []
   },
   "outputs": [],
   "source": [
    "merged_data = pd.merge(games , games_metadata , on = 'app_id' , how = 'inner')"
   ]
  },
  {
   "cell_type": "code",
   "execution_count": 23,
   "id": "f7040fbb",
   "metadata": {
    "execution": {
     "iopub.execute_input": "2024-05-24T11:27:23.888493Z",
     "iopub.status.busy": "2024-05-24T11:27:23.887962Z",
     "iopub.status.idle": "2024-05-24T11:27:23.897795Z",
     "shell.execute_reply": "2024-05-24T11:27:23.896320Z"
    },
    "papermill": {
     "duration": 0.05483,
     "end_time": "2024-05-24T11:27:23.900494",
     "exception": false,
     "start_time": "2024-05-24T11:27:23.845664",
     "status": "completed"
    },
    "tags": []
   },
   "outputs": [
    {
     "data": {
      "text/plain": [
       "Index(['app_id', 'title', 'date_release', 'win', 'mac', 'linux', 'rating',\n",
       "       'positive_ratio', 'user_reviews', 'price_final', 'price_original',\n",
       "       'discount', 'steam_deck', 'release_year', 'description', 'tags'],\n",
       "      dtype='object')"
      ]
     },
     "execution_count": 23,
     "metadata": {},
     "output_type": "execute_result"
    }
   ],
   "source": [
    "merged_data.columns"
   ]
  },
  {
   "cell_type": "code",
   "execution_count": 24,
   "id": "bc7be129",
   "metadata": {
    "execution": {
     "iopub.execute_input": "2024-05-24T11:27:23.983392Z",
     "iopub.status.busy": "2024-05-24T11:27:23.981763Z",
     "iopub.status.idle": "2024-05-24T11:27:23.992407Z",
     "shell.execute_reply": "2024-05-24T11:27:23.991343Z"
    },
    "papermill": {
     "duration": 0.054554,
     "end_time": "2024-05-24T11:27:23.995237",
     "exception": false,
     "start_time": "2024-05-24T11:27:23.940683",
     "status": "completed"
    },
    "tags": []
   },
   "outputs": [],
   "source": [
    "df = merged_data[['app_id', 'title','description', 'tags']]"
   ]
  },
  {
   "cell_type": "code",
   "execution_count": 25,
   "id": "ca7c4ada",
   "metadata": {
    "execution": {
     "iopub.execute_input": "2024-05-24T11:27:24.080875Z",
     "iopub.status.busy": "2024-05-24T11:27:24.080131Z",
     "iopub.status.idle": "2024-05-24T11:27:24.094010Z",
     "shell.execute_reply": "2024-05-24T11:27:24.093182Z"
    },
    "papermill": {
     "duration": 0.059435,
     "end_time": "2024-05-24T11:27:24.096492",
     "exception": false,
     "start_time": "2024-05-24T11:27:24.037057",
     "status": "completed"
    },
    "tags": []
   },
   "outputs": [
    {
     "data": {
      "text/html": [
       "<div>\n",
       "<style scoped>\n",
       "    .dataframe tbody tr th:only-of-type {\n",
       "        vertical-align: middle;\n",
       "    }\n",
       "\n",
       "    .dataframe tbody tr th {\n",
       "        vertical-align: top;\n",
       "    }\n",
       "\n",
       "    .dataframe thead th {\n",
       "        text-align: right;\n",
       "    }\n",
       "</style>\n",
       "<table border=\"1\" class=\"dataframe\">\n",
       "  <thead>\n",
       "    <tr style=\"text-align: right;\">\n",
       "      <th></th>\n",
       "      <th>app_id</th>\n",
       "      <th>title</th>\n",
       "      <th>description</th>\n",
       "      <th>tags</th>\n",
       "    </tr>\n",
       "  </thead>\n",
       "  <tbody>\n",
       "    <tr>\n",
       "      <th>0</th>\n",
       "      <td>13500.0</td>\n",
       "      <td>Prince of Persia: Warrior Within™</td>\n",
       "      <td>Enter the dark underworld of Prince of Persia ...</td>\n",
       "      <td>[Action, Adventure, Parkour, Third Person, Gre...</td>\n",
       "    </tr>\n",
       "    <tr>\n",
       "      <th>1</th>\n",
       "      <td>22364.0</td>\n",
       "      <td>BRINK: Agents of Change</td>\n",
       "      <td></td>\n",
       "      <td>[Action]</td>\n",
       "    </tr>\n",
       "    <tr>\n",
       "      <th>2</th>\n",
       "      <td>113020.0</td>\n",
       "      <td>Monaco: What's Yours Is Mine</td>\n",
       "      <td>Monaco: What's Yours Is Mine is a single playe...</td>\n",
       "      <td>[Co-op, Stealth, Indie, Heist, Local Co-Op, St...</td>\n",
       "    </tr>\n",
       "    <tr>\n",
       "      <th>3</th>\n",
       "      <td>226560.0</td>\n",
       "      <td>Escape Dead Island</td>\n",
       "      <td>Escape Dead Island is a Survival-Mystery adven...</td>\n",
       "      <td>[Zombies, Adventure, Survival, Action, Third P...</td>\n",
       "    </tr>\n",
       "    <tr>\n",
       "      <th>4</th>\n",
       "      <td>249050.0</td>\n",
       "      <td>Dungeon of the ENDLESS™</td>\n",
       "      <td>Dungeon of the Endless is a Rogue-Like Dungeon...</td>\n",
       "      <td>[Roguelike, Strategy, Tower Defense, Pixel Gra...</td>\n",
       "    </tr>\n",
       "  </tbody>\n",
       "</table>\n",
       "</div>"
      ],
      "text/plain": [
       "     app_id                              title  \\\n",
       "0   13500.0  Prince of Persia: Warrior Within™   \n",
       "1   22364.0            BRINK: Agents of Change   \n",
       "2  113020.0       Monaco: What's Yours Is Mine   \n",
       "3  226560.0                 Escape Dead Island   \n",
       "4  249050.0            Dungeon of the ENDLESS™   \n",
       "\n",
       "                                         description  \\\n",
       "0  Enter the dark underworld of Prince of Persia ...   \n",
       "1                                                      \n",
       "2  Monaco: What's Yours Is Mine is a single playe...   \n",
       "3  Escape Dead Island is a Survival-Mystery adven...   \n",
       "4  Dungeon of the Endless is a Rogue-Like Dungeon...   \n",
       "\n",
       "                                                tags  \n",
       "0  [Action, Adventure, Parkour, Third Person, Gre...  \n",
       "1                                           [Action]  \n",
       "2  [Co-op, Stealth, Indie, Heist, Local Co-Op, St...  \n",
       "3  [Zombies, Adventure, Survival, Action, Third P...  \n",
       "4  [Roguelike, Strategy, Tower Defense, Pixel Gra...  "
      ]
     },
     "execution_count": 25,
     "metadata": {},
     "output_type": "execute_result"
    }
   ],
   "source": [
    "df.head()"
   ]
  },
  {
   "cell_type": "code",
   "execution_count": 26,
   "id": "d4d07fd4",
   "metadata": {
    "execution": {
     "iopub.execute_input": "2024-05-24T11:27:24.184467Z",
     "iopub.status.busy": "2024-05-24T11:27:24.183840Z",
     "iopub.status.idle": "2024-05-24T11:27:24.241232Z",
     "shell.execute_reply": "2024-05-24T11:27:24.240104Z"
    },
    "papermill": {
     "duration": 0.10539,
     "end_time": "2024-05-24T11:27:24.244200",
     "exception": false,
     "start_time": "2024-05-24T11:27:24.138810",
     "status": "completed"
    },
    "tags": []
   },
   "outputs": [
    {
     "name": "stderr",
     "output_type": "stream",
     "text": [
      "C:\\Users\\Ayush R\\AppData\\Local\\Temp\\ipykernel_13124\\3089831005.py:1: SettingWithCopyWarning: \n",
      "A value is trying to be set on a copy of a slice from a DataFrame.\n",
      "Try using .loc[row_indexer,col_indexer] = value instead\n",
      "\n",
      "See the caveats in the documentation: https://pandas.pydata.org/pandas-docs/stable/user_guide/indexing.html#returning-a-view-versus-a-copy\n",
      "  df['tags'] = df['tags'].apply(lambda x:' '.join(x))\n"
     ]
    }
   ],
   "source": [
    "df['tags'] = df['tags'].apply(lambda x:' '.join(x))"
   ]
  },
  {
   "cell_type": "code",
   "execution_count": 27,
   "id": "3a284dee",
   "metadata": {
    "execution": {
     "iopub.execute_input": "2024-05-24T11:27:24.331941Z",
     "iopub.status.busy": "2024-05-24T11:27:24.331527Z",
     "iopub.status.idle": "2024-05-24T11:27:24.418149Z",
     "shell.execute_reply": "2024-05-24T11:27:24.417021Z"
    },
    "papermill": {
     "duration": 0.135951,
     "end_time": "2024-05-24T11:27:24.422063",
     "exception": false,
     "start_time": "2024-05-24T11:27:24.286112",
     "status": "completed"
    },
    "tags": []
   },
   "outputs": [
    {
     "name": "stderr",
     "output_type": "stream",
     "text": [
      "C:\\Users\\Ayush R\\AppData\\Local\\Temp\\ipykernel_13124\\494620436.py:1: SettingWithCopyWarning: \n",
      "A value is trying to be set on a copy of a slice from a DataFrame.\n",
      "Try using .loc[row_indexer,col_indexer] = value instead\n",
      "\n",
      "See the caveats in the documentation: https://pandas.pydata.org/pandas-docs/stable/user_guide/indexing.html#returning-a-view-versus-a-copy\n",
      "  df['overview'] = df['title']+\" \"+df['description']+\" \"+df['tags']\n"
     ]
    },
    {
     "data": {
      "text/html": [
       "<div>\n",
       "<style scoped>\n",
       "    .dataframe tbody tr th:only-of-type {\n",
       "        vertical-align: middle;\n",
       "    }\n",
       "\n",
       "    .dataframe tbody tr th {\n",
       "        vertical-align: top;\n",
       "    }\n",
       "\n",
       "    .dataframe thead th {\n",
       "        text-align: right;\n",
       "    }\n",
       "</style>\n",
       "<table border=\"1\" class=\"dataframe\">\n",
       "  <thead>\n",
       "    <tr style=\"text-align: right;\">\n",
       "      <th></th>\n",
       "      <th>app_id</th>\n",
       "      <th>title</th>\n",
       "      <th>description</th>\n",
       "      <th>tags</th>\n",
       "      <th>overview</th>\n",
       "    </tr>\n",
       "  </thead>\n",
       "  <tbody>\n",
       "    <tr>\n",
       "      <th>0</th>\n",
       "      <td>13500.0</td>\n",
       "      <td>Prince of Persia: Warrior Within™</td>\n",
       "      <td>Enter the dark underworld of Prince of Persia ...</td>\n",
       "      <td>Action Adventure Parkour Third Person Great So...</td>\n",
       "      <td>Prince of Persia: Warrior Within™ Enter the da...</td>\n",
       "    </tr>\n",
       "    <tr>\n",
       "      <th>1</th>\n",
       "      <td>22364.0</td>\n",
       "      <td>BRINK: Agents of Change</td>\n",
       "      <td></td>\n",
       "      <td>Action</td>\n",
       "      <td>BRINK: Agents of Change  Action</td>\n",
       "    </tr>\n",
       "    <tr>\n",
       "      <th>2</th>\n",
       "      <td>113020.0</td>\n",
       "      <td>Monaco: What's Yours Is Mine</td>\n",
       "      <td>Monaco: What's Yours Is Mine is a single playe...</td>\n",
       "      <td>Co-op Stealth Indie Heist Local Co-Op Strategy...</td>\n",
       "      <td>Monaco: What's Yours Is Mine Monaco: What's Yo...</td>\n",
       "    </tr>\n",
       "    <tr>\n",
       "      <th>3</th>\n",
       "      <td>226560.0</td>\n",
       "      <td>Escape Dead Island</td>\n",
       "      <td>Escape Dead Island is a Survival-Mystery adven...</td>\n",
       "      <td>Zombies Adventure Survival Action Third Person...</td>\n",
       "      <td>Escape Dead Island Escape Dead Island is a Sur...</td>\n",
       "    </tr>\n",
       "    <tr>\n",
       "      <th>4</th>\n",
       "      <td>249050.0</td>\n",
       "      <td>Dungeon of the ENDLESS™</td>\n",
       "      <td>Dungeon of the Endless is a Rogue-Like Dungeon...</td>\n",
       "      <td>Roguelike Strategy Tower Defense Pixel Graphic...</td>\n",
       "      <td>Dungeon of the ENDLESS™ Dungeon of the Endless...</td>\n",
       "    </tr>\n",
       "  </tbody>\n",
       "</table>\n",
       "</div>"
      ],
      "text/plain": [
       "     app_id                              title  \\\n",
       "0   13500.0  Prince of Persia: Warrior Within™   \n",
       "1   22364.0            BRINK: Agents of Change   \n",
       "2  113020.0       Monaco: What's Yours Is Mine   \n",
       "3  226560.0                 Escape Dead Island   \n",
       "4  249050.0            Dungeon of the ENDLESS™   \n",
       "\n",
       "                                         description  \\\n",
       "0  Enter the dark underworld of Prince of Persia ...   \n",
       "1                                                      \n",
       "2  Monaco: What's Yours Is Mine is a single playe...   \n",
       "3  Escape Dead Island is a Survival-Mystery adven...   \n",
       "4  Dungeon of the Endless is a Rogue-Like Dungeon...   \n",
       "\n",
       "                                                tags  \\\n",
       "0  Action Adventure Parkour Third Person Great So...   \n",
       "1                                             Action   \n",
       "2  Co-op Stealth Indie Heist Local Co-Op Strategy...   \n",
       "3  Zombies Adventure Survival Action Third Person...   \n",
       "4  Roguelike Strategy Tower Defense Pixel Graphic...   \n",
       "\n",
       "                                            overview  \n",
       "0  Prince of Persia: Warrior Within™ Enter the da...  \n",
       "1                    BRINK: Agents of Change  Action  \n",
       "2  Monaco: What's Yours Is Mine Monaco: What's Yo...  \n",
       "3  Escape Dead Island Escape Dead Island is a Sur...  \n",
       "4  Dungeon of the ENDLESS™ Dungeon of the Endless...  "
      ]
     },
     "execution_count": 27,
     "metadata": {},
     "output_type": "execute_result"
    }
   ],
   "source": [
    "df['overview'] = df['title']+\" \"+df['description']+\" \"+df['tags']\n",
    "df.head()"
   ]
  },
  {
   "cell_type": "code",
   "execution_count": 28,
   "id": "fc4cf8fa",
   "metadata": {
    "execution": {
     "iopub.execute_input": "2024-05-24T11:27:24.506828Z",
     "iopub.status.busy": "2024-05-24T11:27:24.506127Z",
     "iopub.status.idle": "2024-05-24T11:27:24.513243Z",
     "shell.execute_reply": "2024-05-24T11:27:24.511955Z"
    },
    "papermill": {
     "duration": 0.052486,
     "end_time": "2024-05-24T11:27:24.515801",
     "exception": false,
     "start_time": "2024-05-24T11:27:24.463315",
     "status": "completed"
    },
    "tags": []
   },
   "outputs": [
    {
     "data": {
      "text/plain": [
       "(3000, 5)"
      ]
     },
     "execution_count": 28,
     "metadata": {},
     "output_type": "execute_result"
    }
   ],
   "source": [
    "df.shape"
   ]
  },
  {
   "cell_type": "code",
   "execution_count": 29,
   "id": "c965391c",
   "metadata": {
    "execution": {
     "iopub.execute_input": "2024-05-24T11:27:24.599590Z",
     "iopub.status.busy": "2024-05-24T11:27:24.599153Z",
     "iopub.status.idle": "2024-05-24T11:27:24.617738Z",
     "shell.execute_reply": "2024-05-24T11:27:24.616323Z"
    },
    "papermill": {
     "duration": 0.063657,
     "end_time": "2024-05-24T11:27:24.620279",
     "exception": false,
     "start_time": "2024-05-24T11:27:24.556622",
     "status": "completed"
    },
    "tags": []
   },
   "outputs": [
    {
     "data": {
      "text/html": [
       "<div>\n",
       "<style scoped>\n",
       "    .dataframe tbody tr th:only-of-type {\n",
       "        vertical-align: middle;\n",
       "    }\n",
       "\n",
       "    .dataframe tbody tr th {\n",
       "        vertical-align: top;\n",
       "    }\n",
       "\n",
       "    .dataframe thead th {\n",
       "        text-align: right;\n",
       "    }\n",
       "</style>\n",
       "<table border=\"1\" class=\"dataframe\">\n",
       "  <thead>\n",
       "    <tr style=\"text-align: right;\">\n",
       "      <th></th>\n",
       "      <th>app_id</th>\n",
       "      <th>title</th>\n",
       "      <th>overview</th>\n",
       "    </tr>\n",
       "  </thead>\n",
       "  <tbody>\n",
       "    <tr>\n",
       "      <th>0</th>\n",
       "      <td>13500.0</td>\n",
       "      <td>Prince of Persia: Warrior Within™</td>\n",
       "      <td>Prince of Persia: Warrior Within™ Enter the da...</td>\n",
       "    </tr>\n",
       "    <tr>\n",
       "      <th>1</th>\n",
       "      <td>22364.0</td>\n",
       "      <td>BRINK: Agents of Change</td>\n",
       "      <td>BRINK: Agents of Change  Action</td>\n",
       "    </tr>\n",
       "    <tr>\n",
       "      <th>2</th>\n",
       "      <td>113020.0</td>\n",
       "      <td>Monaco: What's Yours Is Mine</td>\n",
       "      <td>Monaco: What's Yours Is Mine Monaco: What's Yo...</td>\n",
       "    </tr>\n",
       "    <tr>\n",
       "      <th>3</th>\n",
       "      <td>226560.0</td>\n",
       "      <td>Escape Dead Island</td>\n",
       "      <td>Escape Dead Island Escape Dead Island is a Sur...</td>\n",
       "    </tr>\n",
       "    <tr>\n",
       "      <th>4</th>\n",
       "      <td>249050.0</td>\n",
       "      <td>Dungeon of the ENDLESS™</td>\n",
       "      <td>Dungeon of the ENDLESS™ Dungeon of the Endless...</td>\n",
       "    </tr>\n",
       "  </tbody>\n",
       "</table>\n",
       "</div>"
      ],
      "text/plain": [
       "     app_id                              title  \\\n",
       "0   13500.0  Prince of Persia: Warrior Within™   \n",
       "1   22364.0            BRINK: Agents of Change   \n",
       "2  113020.0       Monaco: What's Yours Is Mine   \n",
       "3  226560.0                 Escape Dead Island   \n",
       "4  249050.0            Dungeon of the ENDLESS™   \n",
       "\n",
       "                                            overview  \n",
       "0  Prince of Persia: Warrior Within™ Enter the da...  \n",
       "1                    BRINK: Agents of Change  Action  \n",
       "2  Monaco: What's Yours Is Mine Monaco: What's Yo...  \n",
       "3  Escape Dead Island Escape Dead Island is a Sur...  \n",
       "4  Dungeon of the ENDLESS™ Dungeon of the Endless...  "
      ]
     },
     "execution_count": 29,
     "metadata": {},
     "output_type": "execute_result"
    }
   ],
   "source": [
    "final_df = df[['app_id','title','overview']]\n",
    "final_df.head()"
   ]
  },
  {
   "cell_type": "code",
   "execution_count": 30,
   "id": "11ee074f",
   "metadata": {
    "execution": {
     "iopub.execute_input": "2024-05-24T11:27:24.704167Z",
     "iopub.status.busy": "2024-05-24T11:27:24.703711Z",
     "iopub.status.idle": "2024-05-24T11:27:24.710083Z",
     "shell.execute_reply": "2024-05-24T11:27:24.708620Z"
    },
    "papermill": {
     "duration": 0.052004,
     "end_time": "2024-05-24T11:27:24.712743",
     "exception": false,
     "start_time": "2024-05-24T11:27:24.660739",
     "status": "completed"
    },
    "tags": []
   },
   "outputs": [],
   "source": [
    "import re\n",
    "\n",
    "def remove_special_characters(s):\n",
    "  return re.sub(r'[^\\w\\s]', '', s)"
   ]
  },
  {
   "cell_type": "code",
   "execution_count": 31,
   "id": "8d7d4673",
   "metadata": {
    "execution": {
     "iopub.execute_input": "2024-05-24T11:27:24.797788Z",
     "iopub.status.busy": "2024-05-24T11:27:24.797320Z",
     "iopub.status.idle": "2024-05-24T11:27:25.547312Z",
     "shell.execute_reply": "2024-05-24T11:27:25.546062Z"
    },
    "papermill": {
     "duration": 0.796413,
     "end_time": "2024-05-24T11:27:25.550834",
     "exception": false,
     "start_time": "2024-05-24T11:27:24.754421",
     "status": "completed"
    },
    "tags": []
   },
   "outputs": [
    {
     "name": "stderr",
     "output_type": "stream",
     "text": [
      "C:\\Users\\Ayush R\\AppData\\Local\\Temp\\ipykernel_13124\\1345942274.py:1: SettingWithCopyWarning: \n",
      "A value is trying to be set on a copy of a slice from a DataFrame.\n",
      "Try using .loc[row_indexer,col_indexer] = value instead\n",
      "\n",
      "See the caveats in the documentation: https://pandas.pydata.org/pandas-docs/stable/user_guide/indexing.html#returning-a-view-versus-a-copy\n",
      "  df['overview'] = df['overview'].apply(lambda x : remove_special_characters(x))\n"
     ]
    }
   ],
   "source": [
    "df['overview'] = df['overview'].apply(lambda x : remove_special_characters(x))"
   ]
  },
  {
   "cell_type": "code",
   "execution_count": 32,
   "id": "6ace2056",
   "metadata": {
    "execution": {
     "iopub.execute_input": "2024-05-24T11:27:25.640997Z",
     "iopub.status.busy": "2024-05-24T11:27:25.639664Z",
     "iopub.status.idle": "2024-05-24T11:27:25.701544Z",
     "shell.execute_reply": "2024-05-24T11:27:25.700402Z"
    },
    "papermill": {
     "duration": 0.111377,
     "end_time": "2024-05-24T11:27:25.705155",
     "exception": false,
     "start_time": "2024-05-24T11:27:25.593778",
     "status": "completed"
    },
    "tags": []
   },
   "outputs": [
    {
     "name": "stderr",
     "output_type": "stream",
     "text": [
      "C:\\Users\\Ayush R\\AppData\\Local\\Temp\\ipykernel_13124\\3439119006.py:1: SettingWithCopyWarning: \n",
      "A value is trying to be set on a copy of a slice from a DataFrame.\n",
      "Try using .loc[row_indexer,col_indexer] = value instead\n",
      "\n",
      "See the caveats in the documentation: https://pandas.pydata.org/pandas-docs/stable/user_guide/indexing.html#returning-a-view-versus-a-copy\n",
      "  df['overview'] = df['overview'].apply(lambda x:x.lower())\n"
     ]
    }
   ],
   "source": [
    "df['overview'] = df['overview'].apply(lambda x:x.lower())"
   ]
  },
  {
   "cell_type": "code",
   "execution_count": 33,
   "id": "7ec4878b",
   "metadata": {
    "execution": {
     "iopub.execute_input": "2024-05-24T11:27:25.791599Z",
     "iopub.status.busy": "2024-05-24T11:27:25.791098Z",
     "iopub.status.idle": "2024-05-24T11:27:26.861885Z",
     "shell.execute_reply": "2024-05-24T11:27:26.860530Z"
    },
    "papermill": {
     "duration": 1.116822,
     "end_time": "2024-05-24T11:27:26.865000",
     "exception": false,
     "start_time": "2024-05-24T11:27:25.748178",
     "status": "completed"
    },
    "tags": []
   },
   "outputs": [],
   "source": [
    "import nltk"
   ]
  },
  {
   "cell_type": "code",
   "execution_count": 34,
   "id": "9dd189bd",
   "metadata": {
    "execution": {
     "iopub.execute_input": "2024-05-24T11:27:26.955031Z",
     "iopub.status.busy": "2024-05-24T11:27:26.954644Z",
     "iopub.status.idle": "2024-05-24T11:27:26.960199Z",
     "shell.execute_reply": "2024-05-24T11:27:26.958727Z"
    },
    "papermill": {
     "duration": 0.053063,
     "end_time": "2024-05-24T11:27:26.962905",
     "exception": false,
     "start_time": "2024-05-24T11:27:26.909842",
     "status": "completed"
    },
    "tags": []
   },
   "outputs": [],
   "source": [
    "from nltk.stem.porter import PorterStemmer\n",
    "ps = PorterStemmer()"
   ]
  },
  {
   "cell_type": "code",
   "execution_count": 35,
   "id": "7bb54409",
   "metadata": {
    "execution": {
     "iopub.execute_input": "2024-05-24T11:27:27.052443Z",
     "iopub.status.busy": "2024-05-24T11:27:27.051984Z",
     "iopub.status.idle": "2024-05-24T11:27:27.058243Z",
     "shell.execute_reply": "2024-05-24T11:27:27.057170Z"
    },
    "papermill": {
     "duration": 0.053507,
     "end_time": "2024-05-24T11:27:27.060663",
     "exception": false,
     "start_time": "2024-05-24T11:27:27.007156",
     "status": "completed"
    },
    "tags": []
   },
   "outputs": [],
   "source": [
    "def stem(text):\n",
    "    y = []\n",
    "    for i in text.split():\n",
    "        y.append(ps.stem(i))\n",
    "    return \" \".join(y)"
   ]
  },
  {
   "cell_type": "code",
   "execution_count": 36,
   "id": "cd383230",
   "metadata": {
    "execution": {
     "iopub.execute_input": "2024-05-24T11:27:27.148908Z",
     "iopub.status.busy": "2024-05-24T11:27:27.148503Z",
     "iopub.status.idle": "2024-05-24T11:28:46.498983Z",
     "shell.execute_reply": "2024-05-24T11:28:46.497592Z"
    },
    "papermill": {
     "duration": 79.441296,
     "end_time": "2024-05-24T11:28:46.544841",
     "exception": false,
     "start_time": "2024-05-24T11:27:27.103545",
     "status": "completed"
    },
    "tags": []
   },
   "outputs": [
    {
     "name": "stderr",
     "output_type": "stream",
     "text": [
      "C:\\Users\\Ayush R\\AppData\\Local\\Temp\\ipykernel_13124\\432991732.py:1: SettingWithCopyWarning: \n",
      "A value is trying to be set on a copy of a slice from a DataFrame.\n",
      "Try using .loc[row_indexer,col_indexer] = value instead\n",
      "\n",
      "See the caveats in the documentation: https://pandas.pydata.org/pandas-docs/stable/user_guide/indexing.html#returning-a-view-versus-a-copy\n",
      "  df['overview'] = df['overview'].apply(stem)\n"
     ]
    }
   ],
   "source": [
    "df['overview'] = df['overview'].apply(stem)"
   ]
  },
  {
   "cell_type": "code",
   "execution_count": 37,
   "id": "501340fc",
   "metadata": {
    "execution": {
     "iopub.execute_input": "2024-05-24T11:28:46.633332Z",
     "iopub.status.busy": "2024-05-24T11:28:46.632887Z",
     "iopub.status.idle": "2024-05-24T11:28:46.639017Z",
     "shell.execute_reply": "2024-05-24T11:28:46.637572Z"
    },
    "papermill": {
     "duration": 0.053782,
     "end_time": "2024-05-24T11:28:46.641933",
     "exception": false,
     "start_time": "2024-05-24T11:28:46.588151",
     "status": "completed"
    },
    "tags": []
   },
   "outputs": [],
   "source": [
    "from sklearn.feature_extraction.text import CountVectorizer\n",
    "cv = CountVectorizer(max_features=1500,stop_words='english')"
   ]
  },
  {
   "cell_type": "code",
   "execution_count": 38,
   "id": "9aedaa28",
   "metadata": {
    "execution": {
     "iopub.execute_input": "2024-05-24T11:28:46.728154Z",
     "iopub.status.busy": "2024-05-24T11:28:46.727657Z",
     "iopub.status.idle": "2024-05-24T11:28:50.262162Z",
     "shell.execute_reply": "2024-05-24T11:28:50.260749Z"
    },
    "papermill": {
     "duration": 3.580984,
     "end_time": "2024-05-24T11:28:50.265160",
     "exception": false,
     "start_time": "2024-05-24T11:28:46.684176",
     "status": "completed"
    },
    "tags": []
   },
   "outputs": [
    {
     "data": {
      "text/plain": [
       "(3000, 1500)"
      ]
     },
     "execution_count": 38,
     "metadata": {},
     "output_type": "execute_result"
    }
   ],
   "source": [
    "cv.fit_transform(df['overview']).toarray().shape"
   ]
  },
  {
   "cell_type": "code",
   "execution_count": 39,
   "id": "2d77d70f",
   "metadata": {
    "execution": {
     "iopub.execute_input": "2024-05-24T11:28:50.354491Z",
     "iopub.status.busy": "2024-05-24T11:28:50.354059Z",
     "iopub.status.idle": "2024-05-24T11:28:53.771688Z",
     "shell.execute_reply": "2024-05-24T11:28:53.770336Z"
    },
    "papermill": {
     "duration": 3.46591,
     "end_time": "2024-05-24T11:28:53.774818",
     "exception": false,
     "start_time": "2024-05-24T11:28:50.308908",
     "status": "completed"
    },
    "tags": []
   },
   "outputs": [],
   "source": [
    "vectors = cv.fit_transform(df['overview']).toarray()"
   ]
  },
  {
   "cell_type": "code",
   "execution_count": 40,
   "id": "96dcc1c3",
   "metadata": {
    "execution": {
     "iopub.execute_input": "2024-05-24T11:28:53.862632Z",
     "iopub.status.busy": "2024-05-24T11:28:53.861918Z",
     "iopub.status.idle": "2024-05-24T11:28:53.867636Z",
     "shell.execute_reply": "2024-05-24T11:28:53.866378Z"
    },
    "papermill": {
     "duration": 0.052566,
     "end_time": "2024-05-24T11:28:53.870245",
     "exception": false,
     "start_time": "2024-05-24T11:28:53.817679",
     "status": "completed"
    },
    "tags": []
   },
   "outputs": [],
   "source": [
    "from sklearn.metrics.pairwise import cosine_similarity"
   ]
  },
  {
   "cell_type": "code",
   "execution_count": 41,
   "id": "f6c4f085",
   "metadata": {
    "execution": {
     "iopub.execute_input": "2024-05-24T11:28:53.957984Z",
     "iopub.status.busy": "2024-05-24T11:28:53.957607Z",
     "iopub.status.idle": "2024-05-24T11:30:14.467568Z",
     "shell.execute_reply": "2024-05-24T11:30:14.465981Z"
    },
    "papermill": {
     "duration": 80.557697,
     "end_time": "2024-05-24T11:30:14.470548",
     "exception": false,
     "start_time": "2024-05-24T11:28:53.912851",
     "status": "completed"
    },
    "tags": []
   },
   "outputs": [],
   "source": [
    "similarity = cosine_similarity(vectors)"
   ]
  },
  {
   "cell_type": "code",
   "execution_count": 42,
   "id": "54ba05f6",
   "metadata": {
    "execution": {
     "iopub.execute_input": "2024-05-24T11:30:14.555461Z",
     "iopub.status.busy": "2024-05-24T11:30:14.555072Z",
     "iopub.status.idle": "2024-05-24T11:30:14.562794Z",
     "shell.execute_reply": "2024-05-24T11:30:14.561352Z"
    },
    "papermill": {
     "duration": 0.053098,
     "end_time": "2024-05-24T11:30:14.565233",
     "exception": false,
     "start_time": "2024-05-24T11:30:14.512135",
     "status": "completed"
    },
    "tags": []
   },
   "outputs": [
    {
     "data": {
      "text/plain": [
       "array([[1.        , 0.05661385, 0.08920516, ..., 0.33506136, 0.15191091,\n",
       "        0.0855921 ],\n",
       "       [0.05661385, 1.        , 0.06565322, ..., 0.08219949, 0.        ,\n",
       "        0.18898224],\n",
       "       [0.08920516, 0.06565322, 1.        , ..., 0.1942798 , 0.07829603,\n",
       "        0.34740417],\n",
       "       ...,\n",
       "       [0.33506136, 0.08219949, 0.1942798 , ..., 1.        , 0.12253577,\n",
       "        0.24854791],\n",
       "       [0.15191091, 0.        , 0.07829603, ..., 0.12253577, 1.        ,\n",
       "        0.05634362],\n",
       "       [0.0855921 , 0.18898224, 0.34740417, ..., 0.24854791, 0.05634362,\n",
       "        1.        ]])"
      ]
     },
     "execution_count": 42,
     "metadata": {},
     "output_type": "execute_result"
    }
   ],
   "source": [
    "similarity"
   ]
  },
  {
   "cell_type": "code",
   "execution_count": 43,
   "id": "d94813cd",
   "metadata": {
    "execution": {
     "iopub.execute_input": "2024-05-24T11:30:14.650955Z",
     "iopub.status.busy": "2024-05-24T11:30:14.650135Z",
     "iopub.status.idle": "2024-05-24T11:30:14.657105Z",
     "shell.execute_reply": "2024-05-24T11:30:14.655848Z"
    },
    "papermill": {
     "duration": 0.053517,
     "end_time": "2024-05-24T11:30:14.659552",
     "exception": false,
     "start_time": "2024-05-24T11:30:14.606035",
     "status": "completed"
    },
    "tags": []
   },
   "outputs": [],
   "source": [
    "def recommend(game):\n",
    "    game_index = final_df[final_df['title'] == game].index[0]\n",
    "    distances = similarity[game_index]\n",
    "    game_list = sorted(list(enumerate(distances)),reverse=True,key=lambda x:x[1])[1:6]\n",
    "    for i in game_list:\n",
    "        print(final_df.iloc[i[0]].title)"
   ]
  },
  {
   "cell_type": "code",
   "execution_count": 45,
   "id": "4c6d25df",
   "metadata": {},
   "outputs": [
    {
     "data": {
      "text/html": [
       "<div>\n",
       "<style scoped>\n",
       "    .dataframe tbody tr th:only-of-type {\n",
       "        vertical-align: middle;\n",
       "    }\n",
       "\n",
       "    .dataframe tbody tr th {\n",
       "        vertical-align: top;\n",
       "    }\n",
       "\n",
       "    .dataframe thead th {\n",
       "        text-align: right;\n",
       "    }\n",
       "</style>\n",
       "<table border=\"1\" class=\"dataframe\">\n",
       "  <thead>\n",
       "    <tr style=\"text-align: right;\">\n",
       "      <th></th>\n",
       "      <th>app_id</th>\n",
       "      <th>title</th>\n",
       "      <th>overview</th>\n",
       "    </tr>\n",
       "  </thead>\n",
       "  <tbody>\n",
       "    <tr>\n",
       "      <th>0</th>\n",
       "      <td>13500.0</td>\n",
       "      <td>Prince of Persia: Warrior Within™</td>\n",
       "      <td>Prince of Persia: Warrior Within™ Enter the da...</td>\n",
       "    </tr>\n",
       "    <tr>\n",
       "      <th>1</th>\n",
       "      <td>22364.0</td>\n",
       "      <td>BRINK: Agents of Change</td>\n",
       "      <td>BRINK: Agents of Change  Action</td>\n",
       "    </tr>\n",
       "    <tr>\n",
       "      <th>2</th>\n",
       "      <td>113020.0</td>\n",
       "      <td>Monaco: What's Yours Is Mine</td>\n",
       "      <td>Monaco: What's Yours Is Mine Monaco: What's Yo...</td>\n",
       "    </tr>\n",
       "    <tr>\n",
       "      <th>3</th>\n",
       "      <td>226560.0</td>\n",
       "      <td>Escape Dead Island</td>\n",
       "      <td>Escape Dead Island Escape Dead Island is a Sur...</td>\n",
       "    </tr>\n",
       "    <tr>\n",
       "      <th>4</th>\n",
       "      <td>249050.0</td>\n",
       "      <td>Dungeon of the ENDLESS™</td>\n",
       "      <td>Dungeon of the ENDLESS™ Dungeon of the Endless...</td>\n",
       "    </tr>\n",
       "  </tbody>\n",
       "</table>\n",
       "</div>"
      ],
      "text/plain": [
       "     app_id                              title  \\\n",
       "0   13500.0  Prince of Persia: Warrior Within™   \n",
       "1   22364.0            BRINK: Agents of Change   \n",
       "2  113020.0       Monaco: What's Yours Is Mine   \n",
       "3  226560.0                 Escape Dead Island   \n",
       "4  249050.0            Dungeon of the ENDLESS™   \n",
       "\n",
       "                                            overview  \n",
       "0  Prince of Persia: Warrior Within™ Enter the da...  \n",
       "1                    BRINK: Agents of Change  Action  \n",
       "2  Monaco: What's Yours Is Mine Monaco: What's Yo...  \n",
       "3  Escape Dead Island Escape Dead Island is a Sur...  \n",
       "4  Dungeon of the ENDLESS™ Dungeon of the Endless...  "
      ]
     },
     "execution_count": 45,
     "metadata": {},
     "output_type": "execute_result"
    }
   ],
   "source": [
    "final_df.head()"
   ]
  },
  {
   "cell_type": "code",
   "execution_count": 47,
   "id": "8b1ff321",
   "metadata": {},
   "outputs": [
    {
     "data": {
      "text/plain": [
       "1"
      ]
     },
     "execution_count": 47,
     "metadata": {},
     "output_type": "execute_result"
    }
   ],
   "source": [
    "final_df[final_df['title'] == 'BRINK: Agents of Change'].index[0]"
   ]
  },
  {
   "cell_type": "code",
   "execution_count": 48,
   "id": "f4a8ba4e",
   "metadata": {
    "execution": {
     "iopub.execute_input": "2024-05-24T11:30:14.902625Z",
     "iopub.status.busy": "2024-05-24T11:30:14.902181Z",
     "iopub.status.idle": "2024-05-24T11:30:14.907752Z",
     "shell.execute_reply": "2024-05-24T11:30:14.906298Z"
    },
    "papermill": {
     "duration": 0.051831,
     "end_time": "2024-05-24T11:30:14.910331",
     "exception": false,
     "start_time": "2024-05-24T11:30:14.858500",
     "status": "completed"
    },
    "tags": []
   },
   "outputs": [],
   "source": [
    "import pickle"
   ]
  },
  {
   "cell_type": "code",
   "execution_count": 49,
   "id": "90d1423c",
   "metadata": {
    "execution": {
     "iopub.execute_input": "2024-05-24T11:30:14.995394Z",
     "iopub.status.busy": "2024-05-24T11:30:14.995009Z",
     "iopub.status.idle": "2024-05-24T11:30:15.000402Z",
     "shell.execute_reply": "2024-05-24T11:30:14.998805Z"
    },
    "papermill": {
     "duration": 0.051105,
     "end_time": "2024-05-24T11:30:15.003309",
     "exception": false,
     "start_time": "2024-05-24T11:30:14.952204",
     "status": "completed"
    },
    "tags": []
   },
   "outputs": [],
   "source": [
    "pickle.dump(final_df.to_dict(),open('game_dict.pkl','wb'))"
   ]
  },
  {
   "cell_type": "code",
   "execution_count": 50,
   "id": "4ccb2e3c",
   "metadata": {},
   "outputs": [
    {
     "data": {
      "text/plain": [
       "['similarity.joblib']"
      ]
     },
     "execution_count": 50,
     "metadata": {},
     "output_type": "execute_result"
    }
   ],
   "source": [
    "from joblib import dump, load\n",
    "\n",
    "# Save the large object using joblib\n",
    "dump(similarity, 'similarity.joblib')"
   ]
  },
  {
   "cell_type": "code",
   "execution_count": 51,
   "id": "a899622f",
   "metadata": {
    "execution": {
     "iopub.execute_input": "2024-05-24T11:30:15.182793Z",
     "iopub.status.busy": "2024-05-24T11:30:15.182085Z",
     "iopub.status.idle": "2024-05-24T11:30:15.186893Z",
     "shell.execute_reply": "2024-05-24T11:30:15.185636Z"
    },
    "papermill": {
     "duration": 0.051301,
     "end_time": "2024-05-24T11:30:15.189661",
     "exception": false,
     "start_time": "2024-05-24T11:30:15.138360",
     "status": "completed"
    },
    "tags": []
   },
   "outputs": [
    {
     "data": {
      "text/plain": [
       "(3000, 3000)"
      ]
     },
     "execution_count": 51,
     "metadata": {},
     "output_type": "execute_result"
    }
   ],
   "source": [
    "similarity.shape"
   ]
  }
 ],
 "metadata": {
  "kaggle": {
   "accelerator": "none",
   "dataSources": [
    {
     "datasetId": 2871694,
     "sourceId": 7192428,
     "sourceType": "datasetVersion"
    }
   ],
   "dockerImageVersionId": 30646,
   "isGpuEnabled": false,
   "isInternetEnabled": false,
   "language": "python",
   "sourceType": "notebook"
  },
  "kernelspec": {
   "display_name": "Python 3",
   "language": "python",
   "name": "python3"
  },
  "language_info": {
   "codemirror_mode": {
    "name": "ipython",
    "version": 3
   },
   "file_extension": ".py",
   "mimetype": "text/x-python",
   "name": "python",
   "nbconvert_exporter": "python",
   "pygments_lexer": "ipython3",
   "version": "3.12.3"
  },
  "papermill": {
   "default_parameters": {},
   "duration": 286.298351,
   "end_time": "2024-05-24T11:30:17.048182",
   "environment_variables": {},
   "exception": null,
   "input_path": "__notebook__.ipynb",
   "output_path": "__notebook__.ipynb",
   "parameters": {},
   "start_time": "2024-05-24T11:25:30.749831",
   "version": "2.5.0"
  }
 },
 "nbformat": 4,
 "nbformat_minor": 5
}
